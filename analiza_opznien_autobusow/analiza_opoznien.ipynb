{
 "cells": [
  {
   "cell_type": "markdown",
   "id": "5b2f49e6",
   "metadata": {},
   "source": [
    "# 🚍 Analiza opóźnień autobusów\n",
    "\n",
    "Analiza danych zebranych przez kierowcę autobusu w celu zrozumienia opóźnień komunikacji miejskiej."
   ]
  },
  {
   "cell_type": "code",
   "execution_count": null,
   "id": "5dc9e968",
   "metadata": {},
   "outputs": [],
   "source": [
    "import pandas as pd\n",
    "import matplotlib.pyplot as plt\n",
    "import seaborn as sns"
   ]
  },
  {
   "cell_type": "markdown",
   "id": "fa005495",
   "metadata": {},
   "source": [
    "## 📥 Wczytanie danych"
   ]
  },
  {
   "cell_type": "code",
   "execution_count": null,
   "id": "397554e8",
   "metadata": {},
   "outputs": [],
   "source": [
    "df = pd.read_csv('Analiza opóźnień autobusów.csv', sep=';')\n",
    "df['data'] = pd.to_datetime(df['data'], format='%d.%m.%Y', errors='coerce')\n",
    "df['godzina_odjazdu_rozkład'] = pd.to_datetime(df['data'].astype(str) + ' ' + df['godzina_odjazdu_rozkład'], errors='coerce')\n",
    "df['godzina_realna_odjazdu'] = pd.to_datetime(df['data'].astype(str) + ' ' + df['godzina_realna_odjazdu'], errors='coerce')\n",
    "df['opóźnieninie_minuty'] = pd.to_numeric(df['opóźnieninie_minuty'], errors='coerce')\n",
    "df['godzina'] = df['godzina_odjazdu_rozkład'].dt.hour\n",
    "df.head()"
   ]
  },
  {
   "cell_type": "markdown",
   "id": "f22fad23",
   "metadata": {},
   "source": [
    "## 📊 Statystyki ogólne"
   ]
  },
  {
   "cell_type": "code",
   "execution_count": null,
   "id": "4b6e17bf",
   "metadata": {},
   "outputs": [],
   "source": [
    "print(\"Liczba obserwacji:\", len(df))\n",
    "print(\"Średnie opóźnienie:\", round(df['opóźnieninie_minuty'].mean(), 2), \"min\")"
   ]
  },
  {
   "cell_type": "markdown",
   "id": "bd9874c1",
   "metadata": {},
   "source": [
    "## 📈 Wykres: Rozkład opóźnień"
   ]
  },
  {
   "cell_type": "code",
   "execution_count": null,
   "id": "6dc933d4",
   "metadata": {},
   "outputs": [],
   "source": [
    "plt.figure(figsize=(10, 6))\n",
    "sns.histplot(df['opóźnieninie_minuty'], bins=10, kde=True)\n",
    "plt.title('Rozkład opóźnień autobusów')\n",
    "plt.xlabel('Opóźnienie [minuty]')\n",
    "plt.ylabel('Liczba przypadków')\n",
    "plt.grid(True)\n",
    "plt.show()"
   ]
  },
  {
   "cell_type": "markdown",
   "id": "e61f76c3",
   "metadata": {},
   "source": [
    "## 🚌 Wykres: Średnie opóźnienie wg linii"
   ]
  },
  {
   "cell_type": "code",
   "execution_count": null,
   "id": "36da0e9a",
   "metadata": {},
   "outputs": [],
   "source": [
    "plt.figure(figsize=(10, 6))\n",
    "sns.barplot(data=df, x='linia_autobusu', y='opóźnieninie_minuty', errorbar=None)\n",
    "plt.title('Średnie opóźnienie wg linii autobusowej')\n",
    "plt.xlabel('Linia')\n",
    "plt.ylabel('Średnie opóźnienie [min]')\n",
    "plt.grid(True)\n",
    "plt.show()"
   ]
  },
  {
   "cell_type": "markdown",
   "id": "b08ea529",
   "metadata": {},
   "source": [
    "## 🕒 Wykres: Opóźnienia względem godziny odjazdu"
   ]
  },
  {
   "cell_type": "code",
   "execution_count": null,
   "id": "f3b18bf8",
   "metadata": {},
   "outputs": [],
   "source": [
    "hourly_delay = df.groupby('godzina')['opóźnieninie_minuty'].mean().reset_index()\n",
    "plt.figure(figsize=(10, 6))\n",
    "sns.lineplot(data=hourly_delay, x='godzina', y='opóźnieninie_minuty', marker='o')\n",
    "plt.title('Średnie opóźnienie względem godziny odjazdu')\n",
    "plt.xlabel('Godzina (rozkładowa)')\n",
    "plt.ylabel('Średnie opóźnienie [minuty]')\n",
    "plt.xticks(range(5, 25))\n",
    "plt.grid(True)\n",
    "plt.tight_layout()\n",
    "plt.show()"
   ]
  },
  {
   "cell_type": "markdown",
   "id": "553455fc",
   "metadata": {},
   "source": [
    "## ✅ Wnioski\n",
    "- Opóźnienia są wyraźnie większe w godzinach porannego szczytu.\n",
    "- Pewne linie autobusowe mają wyraźnie większe opóźnienia niż inne.\n",
    "- Wieczorami autobusy jeżdżą bardziej punktualnie."
   ]
  }
 ],
 "metadata": {
  "kernelspec": {
   "display_name": "Python 3",
   "name": "python3"
  }
 },
 "nbformat": 4,
 "nbformat_minor": 5
}